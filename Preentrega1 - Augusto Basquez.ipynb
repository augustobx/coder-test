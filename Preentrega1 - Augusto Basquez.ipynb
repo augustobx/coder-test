{
 "cells": [
  {
   "cell_type": "markdown",
   "id": "56517fa2-8660-4725-be7f-39967da32127",
   "metadata": {},
   "source": [
    "# Nombre y apellido: Augusto Basquez\n",
    "# Curso: Inteligencia artificial: Generación de Prompts\n",
    "# Comision: 67115\n",
    "# Proyecto: Analizador de señales Forex"
   ]
  },
  {
   "cell_type": "markdown",
   "id": "d353275b-791e-4d93-bc7d-4ed973f695bb",
   "metadata": {},
   "source": [
    "# Problema a abordar: Incursionando en el mundo del trading me tope con el mercado de forex el cual tiene muchas variables y posibilidades de entradas. Las cuales necesitan un analisis tecnico de mercado para comprobar su fiabilidad y factibilidad. Personalmente es relevante desarrollar esta solucion porque mi corta experiencia en el trading no me permite hacer un analisis fiable lo que me puede llevar a perdidas aun mayores de las que normalmente se pueden perder. Con Python y GPT IA se puede lograr un analisis tecnico en tiempo real y asegurando una fiabilidad mucho mas alta del analisis y los resultados."
   ]
  },
  {
   "cell_type": "code",
   "execution_count": null,
   "id": "d18ba5c6-05e7-468e-819c-4b14167dc324",
   "metadata": {},
   "outputs": [],
   "source": [
    "#Instalacion de librerias\n",
    "!pip install MetaTrader5 matplotlib openai python-docx"
   ]
  },
  {
   "cell_type": "code",
   "execution_count": null,
   "id": "c7fa08c4-296b-432f-9b6e-b53ef6985c0b",
   "metadata": {},
   "outputs": [],
   "source": [
    "#Importacion de librerias\n",
    "import MetaTrader5 as mt5\n",
    "import openai\n",
    "import matplotlib.pyplot as plt\n",
    "import numpy as np\n",
    "import requests\n",
    "from io import BytesIO"
   ]
  },
  {
   "cell_type": "code",
   "execution_count": null,
   "id": "39dd1af8-0093-48bb-9ece-04b9af91582c",
   "metadata": {},
   "outputs": [],
   "source": [
    "# Conexión a MetaTrader 5\n",
    "mt5.initialize()\n",
    "symbol = \"EURUSD\"  # Par de divisas\n",
    "price = mt5.symbol_info_tick(symbol).ask  # Obtener precio actual\n",
    "print(f\"Precio actual: {price}\")"
   ]
  },
  {
   "cell_type": "code",
   "execution_count": null,
   "id": "e63a9c5b-e2fa-4838-b1ce-8f8fd145e435",
   "metadata": {},
   "outputs": [],
   "source": [
    "# Solicitar señal de trading\n",
    "signal = input(\"Introduce la señal (ejemplo: 2614.262, SL: 2589.909, TP: 2642.829): \")"
   ]
  },
  {
   "cell_type": "code",
   "execution_count": null,
   "id": "1500a4b5-1310-4f74-ad9b-aece95628419",
   "metadata": {},
   "outputs": [],
   "source": [
    "# Conexión a la API de ChatGPT\n",
    "openai.api_key = 'tu-api-key-de-chatgpt'\n",
    "\n",
    "response = openai.Completion.create(\n",
    "    model=\"gpt-4\",\n",
    "    prompt=f\"Analiza la siguiente señal de trading en Forex: {signal}. Calcula el porcentaje de factibilidad y proporciona una recomendación.\",\n",
    "    max_tokens=1000 \n",
    ")"
   ]
  },
  {
   "cell_type": "code",
   "execution_count": null,
   "id": "a5d312f4-ade5-48d5-90af-d0ec26046dd0",
   "metadata": {},
   "outputs": [],
   "source": [
    "# Resultado de ChatGPT\n",
    "factibilidad = response.choices[0].text.strip()\n",
    "print(f\"Resultado del análisis de ChatGPT: {factibilidad}\")"
   ]
  },
  {
   "cell_type": "code",
   "execution_count": null,
   "id": "b7e75774-990e-46e5-854e-be91830479cc",
   "metadata": {},
   "outputs": [],
   "source": [
    "# Generación de gráfico con DALL·E (simulación de la flecha del movimiento)\n",
    "dalle_response = requests.post(\n",
    "    \"https://api.openai.com/v1/images/generations\",\n",
    "    headers={\"Authorization\": f\"Bearer tu-api-key-dalle\"},\n",
    "    json={\"prompt\": \"Gráfico de un par de divisas con una flecha que indique el movimiento de alza, estilo técnico, en un gráfico de Forex.\",\n",
    "          \"n\": 1, \"size\": \"1024x1024\"}\n",
    ")"
   ]
  },
  {
   "cell_type": "code",
   "execution_count": null,
   "id": "01a8ce77-070a-420b-8d50-e3c2f1110740",
   "metadata": {},
   "outputs": [],
   "source": [
    "# Obtener la imagen de DALL·E\n",
    "image_url = dalle_response.json()['data'][0]['url']\n",
    "image_response = requests.get(image_url)\n",
    "\n",
    "# Guardar la imagen y mostrarla\n",
    "img = Image.open(BytesIO(image_response.content))\n",
    "img.show()\n"
   ]
  },
  {
   "cell_type": "code",
   "execution_count": null,
   "id": "444655d2-d4d9-431d-90bd-87aa46720639",
   "metadata": {},
   "outputs": [],
   "source": [
    "# Cierre de la conexión de MT5\n",
    "mt5.shutdown()"
   ]
  },
  {
   "cell_type": "markdown",
   "id": "f3f632b9-eb08-4b0e-9c74-78da0052c923",
   "metadata": {},
   "source": [
    "#El proyecto es completamente viable desde el punto de vista técnico, ya que contamos con herramientas y APIs confiables como MetaTrader 5 para obtener datos en tiempo real, OpenAI para analizar las señales de trading, y DALL·E para generar los gráficos necesarios. Estas tecnologías son accesibles y tienen una buena documentación, lo que facilita su integración. Además, el tiempo disponible es suficiente para desarrollar el script, probarlo y ajustarlo según sea necesario. En resumen, al combinar estas herramientas, podemos automatizar el análisis de señales de trading de manera eficiente y efectiva, aprovechando recursos ya existentes."
   ]
  }
 ],
 "metadata": {
  "kernelspec": {
   "display_name": "Python 3 (ipykernel)",
   "language": "python",
   "name": "python3"
  },
  "language_info": {
   "codemirror_mode": {
    "name": "ipython",
    "version": 3
   },
   "file_extension": ".py",
   "mimetype": "text/x-python",
   "name": "python",
   "nbconvert_exporter": "python",
   "pygments_lexer": "ipython3",
   "version": "3.12.7"
  }
 },
 "nbformat": 4,
 "nbformat_minor": 5
}
